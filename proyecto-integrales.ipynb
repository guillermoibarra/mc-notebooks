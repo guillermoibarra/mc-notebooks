{
 "cells": [
  {
   "cell_type": "markdown",
   "id": "df9b19c0-5ebb-468e-be9b-7709fe4afaef",
   "metadata": {},
   "source": [
    "Estimar\n",
    "$$\n",
    "I = \\iint_{[0,1]^2} f(x,y)\\, dx\\, dy\n",
    "$$\n",
    "con muestreo estratificado. Por ejemplo,\n",
    "$$\n",
    "f(x, y) = \\exp\\bigl(-(x^2 + y^2)\\bigr).\n",
    "$$\n",
    "\n",
    "1. **Particionar** el cuadrado unitario $[0,1]^2$ en una malla de $k \\times k$ subcuadrados. "
   ]
  },
  {
   "cell_type": "markdown",
   "id": "5229ae00-9cdd-4a0c-97ab-e2e565c2fd37",
   "metadata": {},
   "source": [
    "# Analisis de las Técnicas de Monte Carlo\n",
    "\n",
    "Resolver la ecuación con:\n",
    "1. Monte Carlo Clásico\n",
    "2. Monte Carlo Estratificado\n",
    "3. Quasi Monte Carlo con secuencias de Sobol y Halton\n",
    "\n",
    "Preguntas a discutir:\n",
    "1. ¿Cómo varía la varianza en los diferentes métodos de solución (Monte Carlo normal, estratificado, Sobol y Halton)?\n",
    "2. ¿Cómo afecta el tamaño de la muestra a la varianza en cada método?\n",
    "3. ¿Qué efecto tiene el número de estratificaciones sobre la varianza, la precisión del problema y el tiempo de ejecución?\n",
    "4. ¿Cómo afecta el rendimiento computacional el uso de las secuencias de Sobol y Halton al aumentar el número de muestras?\n",
    "5. ¿Existen diferencias en la distribución espacial de los puntos generados por Sobol y Halton? ¿Cómo pueden estas diferencias impactar la precisión del problema?\n",
    "6. ¿Cómo afecta la dimensión del problema a la eficiencia y precisión de los cuatro métodos estudiados?\n",
    "7. ¿Cómo influye la función de integración en el desempeño de cada método? ¿Se comportan igual para funciones suaves que para funciones con discontinuidades o picos?\n",
    "8. ¿Cuál es la tasa de convergencia observada en cada método?\n",
    "9. ¿Qué ventajas y desventajas tiene el método de estratificación en comparación con los métodos quasi-Monte Carlo?\n"
   ]
  },
  {
   "cell_type": "code",
   "execution_count": null,
   "id": "becef192-7763-42dc-8842-afc00f387c7c",
   "metadata": {},
   "outputs": [],
   "source": []
  }
 ],
 "metadata": {
  "kernelspec": {
   "display_name": "Python 3 (ipykernel)",
   "language": "python",
   "name": "python3"
  },
  "language_info": {
   "codemirror_mode": {
    "name": "ipython",
    "version": 3
   },
   "file_extension": ".py",
   "mimetype": "text/x-python",
   "name": "python",
   "nbconvert_exporter": "python",
   "pygments_lexer": "ipython3",
   "version": "3.12.5"
  }
 },
 "nbformat": 4,
 "nbformat_minor": 5
}
