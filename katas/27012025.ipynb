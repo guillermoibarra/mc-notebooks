{
 "cells": [
  {
   "cell_type": "markdown",
   "id": "8c706ab9-e5bb-4205-9989-a4acc2033886",
   "metadata": {},
   "source": [
    "# 1. Raiz Digital\n",
    "\n",
    "La *raíz digital* es la suma recursiva de todos los dígitos de un número.\n",
    "\n",
    "Dado un número \\( n \\), suma los dígitos de \\( n \\). Si el resultado tiene más de un dígito, continúa repitiendo este proceso hasta obtener un número de un solo dígito. La entrada será un número entero no negativo.\n",
    "\n",
    "**Ejemplos**  \n",
    "- 16  -->  1 + 6 = 7  \n",
    "- 942  -->  9 + 4 + 2 = 15  -->  1 + 5 = 6  \n",
    "- 132189  -->  1 + 3 + 2 + 1 + 8 + 9 = 24  -->  2 + 4 = 6  \n",
    "- 493193  -->  4 + 9 + 3 + 1 + 9 + 3 = 29  -->  2 + 9 = 11  -->  1 + 1 = 2"
   ]
  },
  {
   "cell_type": "markdown",
   "id": "d74ef99e-cd0f-46f1-af27-89deaebec3e0",
   "metadata": {},
   "source": [
    "# 2. Mover Ceros\n",
    "\n",
    "Escribe un algoritmo que tome un array (o lista) y mueva todos los ceros al final, conservando el orden de los demás elementos.\n",
    "Por ejemplo:\n",
    "```py\n",
    "[false, 1, 0, 1, 2, 0, 1, 3, \"a\"]\n",
    "```\n",
    "\n",
    "Debe regresar:\n",
    "```py\n",
    "[false, 1, 1, 2, 1, 3, \"a\", 0, 0]\n",
    "```"
   ]
  },
  {
   "cell_type": "code",
   "execution_count": null,
   "id": "dcfd0d4c-88b2-4c32-b0e1-3411dad2ebc1",
   "metadata": {},
   "outputs": [],
   "source": []
  }
 ],
 "metadata": {
  "kernelspec": {
   "display_name": "Python 3 (ipykernel)",
   "language": "python",
   "name": "python3"
  },
  "language_info": {
   "codemirror_mode": {
    "name": "ipython",
    "version": 3
   },
   "file_extension": ".py",
   "mimetype": "text/x-python",
   "name": "python",
   "nbconvert_exporter": "python",
   "pygments_lexer": "ipython3",
   "version": "3.12.5"
  }
 },
 "nbformat": 4,
 "nbformat_minor": 5
}
