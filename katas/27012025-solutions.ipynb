{
 "cells": [
  {
   "cell_type": "markdown",
   "id": "8c706ab9-e5bb-4205-9989-a4acc2033886",
   "metadata": {},
   "source": [
    "# 1. Raiz Digital\n",
    "\n",
    "La *raíz digital* es la suma recursiva de todos los dígitos de un número.\n",
    "\n",
    "Dado un número \\( n \\), suma los dígitos de \\( n \\). Si el resultado tiene más de un dígito, continúa repitiendo este proceso hasta obtener un número de un solo dígito. La entrada será un número entero no negativo.\n",
    "\n",
    "**Ejemplos**  \n",
    "- 16  -->  1 + 6 = 7  \n",
    "- 942  -->  9 + 4 + 2 = 15  -->  1 + 5 = 6  \n",
    "- 132189  -->  1 + 3 + 2 + 1 + 8 + 9 = 24  -->  2 + 4 = 6  \n",
    "- 493193  -->  4 + 9 + 3 + 1 + 9 + 3 = 29  -->  2 + 9 = 11  -->  1 + 1 = 2"
   ]
  },
  {
   "cell_type": "code",
   "execution_count": 1,
   "id": "0b9ff88d-86e8-408e-95da-3f5ebc937578",
   "metadata": {},
   "outputs": [],
   "source": [
    "def digital_root(n: int) -> int:\n",
    "    # Base case: if n is already a single digit, return n\n",
    "    if n < 10:\n",
    "        return n\n",
    "    \n",
    "    # Sum the digits of n\n",
    "    sum_of_digits = sum(int(digit) for digit in str(n))\n",
    "    \n",
    "    # Recursively find the digital root of this new sum\n",
    "    return digital_root(sum_of_digits)"
   ]
  },
  {
   "cell_type": "code",
   "execution_count": 2,
   "id": "033cc92f-fdef-4d52-8dd5-74e2ccfbef22",
   "metadata": {},
   "outputs": [
    {
     "name": "stdout",
     "output_type": "stream",
     "text": [
      "7\n",
      "6\n",
      "6\n",
      "2\n"
     ]
    }
   ],
   "source": [
    "print(digital_root(16))      # 7\n",
    "print(digital_root(942))     # 6\n",
    "print(digital_root(132189))  # 6\n",
    "print(digital_root(493193))  # 2"
   ]
  },
  {
   "cell_type": "code",
   "execution_count": 3,
   "id": "4013e9ce-5bf0-4434-9564-43c582c8591c",
   "metadata": {},
   "outputs": [],
   "source": [
    "def digital_root2(n: int) -> int:\n",
    "    if n == 0:\n",
    "        return 0\n",
    "    return 1 + (n - 1) % 9"
   ]
  },
  {
   "cell_type": "code",
   "execution_count": 4,
   "id": "1503fefa-693b-4e67-be3f-62a400e50b74",
   "metadata": {},
   "outputs": [
    {
     "name": "stdout",
     "output_type": "stream",
     "text": [
      "7\n",
      "6\n",
      "6\n",
      "2\n"
     ]
    }
   ],
   "source": [
    "print(digital_root2(16))      # 7\n",
    "print(digital_root2(942))     # 6\n",
    "print(digital_root2(132189))  # 6\n",
    "print(digital_root2(493193))  # 2"
   ]
  },
  {
   "cell_type": "markdown",
   "id": "d74ef99e-cd0f-46f1-af27-89deaebec3e0",
   "metadata": {},
   "source": [
    "# 2. Mover Ceros\n",
    "\n",
    "Escribe un algoritmo que tome un array (o lista) y mueva todos los ceros al final, conservando el orden de los demás elementos.\n",
    "Por ejemplo:\n",
    "```py\n",
    "[false, 1, 0, 1, 2, 0, 1, 3, \"a\"]\n",
    "```\n",
    "\n",
    "Debe regresar:\n",
    "```py\n",
    "[false, 1, 1, 2, 1, 3, \"a\", 0, 0]\n",
    "```"
   ]
  },
  {
   "cell_type": "code",
   "execution_count": 1,
   "id": "dcfd0d4c-88b2-4c32-b0e1-3411dad2ebc1",
   "metadata": {},
   "outputs": [],
   "source": [
    "def mover_ceros(lista):\n",
    "    \"\"\"\n",
    "    Mueve todos los ceros enteros en 'lista' al final, conservando el orden de los demás elementos.\n",
    "    \"\"\"\n",
    "    resultado = []\n",
    "    contador_ceros = 0\n",
    "    \n",
    "    for elemento in lista:\n",
    "        # Verifica si el elemento es exactamente el entero 0\n",
    "        if isinstance(elemento, int) and not isinstance(elemento, bool) and elemento == 0:\n",
    "            contador_ceros += 1\n",
    "        else:\n",
    "            resultado.append(elemento)\n",
    "    \n",
    "    # Agrega los ceros al final\n",
    "    resultado.extend([0] * contador_ceros)\n",
    "    return resultado"
   ]
  },
  {
   "cell_type": "code",
   "execution_count": 8,
   "id": "092d12ed-3258-47c8-95fa-adc2d426e46f",
   "metadata": {},
   "outputs": [
    {
     "name": "stdout",
     "output_type": "stream",
     "text": [
      "[False, 1, 1, 2, 1, 3, 'a', 0, 0]\n"
     ]
    }
   ],
   "source": [
    "ejemplo = [False, 1, 0, 1, 2, 0, 1, 3, \"a\"]\n",
    "resultado = mover_ceros(ejemplo)\n",
    "print(resultado) # Salida esperada: [False, 1, 1, 2, 1, 3, 'a', 0, 0]"
   ]
  },
  {
   "cell_type": "code",
   "execution_count": null,
   "id": "39730c96-ad2a-4522-a0cb-d9cb5b2bfd05",
   "metadata": {},
   "outputs": [],
   "source": []
  }
 ],
 "metadata": {
  "kernelspec": {
   "display_name": "Python 3 (ipykernel)",
   "language": "python",
   "name": "python3"
  },
  "language_info": {
   "codemirror_mode": {
    "name": "ipython",
    "version": 3
   },
   "file_extension": ".py",
   "mimetype": "text/x-python",
   "name": "python",
   "nbconvert_exporter": "python",
   "pygments_lexer": "ipython3",
   "version": "3.12.5"
  }
 },
 "nbformat": 4,
 "nbformat_minor": 5
}
