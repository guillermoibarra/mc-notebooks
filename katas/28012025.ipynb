{
 "cells": [
  {
   "cell_type": "markdown",
   "id": "98cf2ad0-1412-49d2-bf13-daef47e45a33",
   "metadata": {},
   "source": [
    "# 1. Camel Case\n",
    "\n",
    "Completa el método/función para que convierta palabras delimitadas por guiones/guiones bajos en notación camel case. La primera palabra en la salida debe estar en mayúscula solo si la palabra original estaba en mayúscula (conocido como Upper Camel Case, también referido frecuentemente como Pascal case). Las siguientes palabras siempre deben estar en mayúscula.\n",
    "\n",
    "Ejemplos:\n",
    "\n",
    "- \"el-poeta-halley\" se convierte en \"elPoetaHalley\"\n",
    "- \"El_Poeta_halley\" se convierte en \"ElPoetaHalley\"\n",
    "- \"El_Poeta-Halley\" se convierte en \"ElPoetaHalley\""
   ]
  },
  {
   "cell_type": "code",
   "execution_count": null,
   "id": "06b7e890-ffc9-4a3a-8abf-4b5bbe1a982a",
   "metadata": {},
   "outputs": [],
   "source": []
  },
  {
   "cell_type": "code",
   "execution_count": null,
   "id": "2e38d1f2-9bba-440e-a761-dc7dd96dd8d4",
   "metadata": {},
   "outputs": [],
   "source": []
  },
  {
   "cell_type": "markdown",
   "id": "34b52aef-7b5b-46b9-abff-90fa323bcd46",
   "metadata": {},
   "source": [
    "# 2. Snail Sort\n",
    "\n",
    "Dado un array n x n, devuelve los elementos del array ordenados desde los elementos más externos hasta el elemento del medio, recorriendo en sentido horario.\n",
    "```\n",
    "array = [[1,2,3],\n",
    "[4,5,6],\n",
    "[7,8,9]]\n",
    "snail(array) #=> [1,2,3,6,9,8,7,4,5]\n",
    "```\n",
    "Para una mejor comprensión, sigue los números del siguiente array consecutivamente:\n",
    "```\n",
    "array = [[1,2,3],\n",
    "[8,9,4],\n",
    "[7,6,5]]\n",
    "snail(array) #=> [1,2,3,4,5,6,7,8,9]\n",
    "```"
   ]
  },
  {
   "cell_type": "code",
   "execution_count": null,
   "id": "3cb751a5-5107-474c-83ce-6055d5b93959",
   "metadata": {},
   "outputs": [],
   "source": []
  },
  {
   "cell_type": "code",
   "execution_count": null,
   "id": "57df451e-85a9-4297-b48c-647666d0bc97",
   "metadata": {},
   "outputs": [],
   "source": []
  }
 ],
 "metadata": {
  "kernelspec": {
   "display_name": "Python 3 (ipykernel)",
   "language": "python",
   "name": "python3"
  },
  "language_info": {
   "codemirror_mode": {
    "name": "ipython",
    "version": 3
   },
   "file_extension": ".py",
   "mimetype": "text/x-python",
   "name": "python",
   "nbconvert_exporter": "python",
   "pygments_lexer": "ipython3",
   "version": "3.12.5"
  }
 },
 "nbformat": 4,
 "nbformat_minor": 5
}
