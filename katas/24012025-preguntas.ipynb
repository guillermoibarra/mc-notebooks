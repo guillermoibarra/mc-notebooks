{
 "cells": [
  {
   "cell_type": "markdown",
   "id": "8b505b34-6c0a-4fee-97b9-6894cf3f65f6",
   "metadata": {},
   "source": [
    "# Ejercicios para Despertar\n",
    "\n",
    "1. Inversión de Cadenas y Palíndromos\n",
    "   - Pide al usuario que ingrese una cadena de texto.\n",
    "   - Escribe una función que invierta esa cadena.\n",
    "   - Verifica si la cadena original es un palíndromo (se lee igual de izquierda a derecha y de derecha a izquierda).\n",
    "   - Imprime la cadena invertida y un mensaje indicando si es un palíndromo o no.\n",
    "2. FizzBuzz\n",
    "   - Imprime los números del 1 al 50.\n",
    "   - Para múltiplos de 3, imprime \"Fizz\" en lugar del número.\n",
    "   - Para múltiplos de 5, imprime \"Buzz\".\n",
    "   - Para múltiplos de ambos (3 y 5), imprime \"FizzBuzz\".\n",
    "3. Calculadora Sencilla\n",
    "   - Pregunta al usuario por dos números y un operador (por ejemplo, +, -, *, /).\n",
    "   - Realiza la operación solicitada.\n",
    "   - Muestra el resultado.\n",
    "   - Continúa pidiendo más operaciones hasta que el usuario decida salir (por ejemplo, ingresando \"salir\").\n",
    "4. Juego de Adivinar el Número\n",
    "   - El programa elige un número aleatorio entre 1 y 50\n",
    "   - El usuario intenta adivinar el número.\n",
    "   - El programa indica si la suposición es \"Muy alta\" o \"Muy baja\" hasta que el usuario acierte.\n",
    "   - Lleva un conteo de los intentos.\n",
    "5. Operaciones con Listas.\n",
    "   - Pide al usuario que ingrese varios números (por ejemplo, 5).\n",
    "   - Almacena esos números en una lista.\n",
    "   - Imprime:\n",
    "       - La suma de los números.\n",
    "       - El promedio.\n",
    "       - El valor máximo y mínimo.\n",
    "   - Ordena la lista y muéstrala por pantalla."
   ]
  },
  {
   "cell_type": "code",
   "execution_count": null,
   "id": "0cbdf942-16dc-4040-ac6f-9e210b2d601c",
   "metadata": {},
   "outputs": [],
   "source": []
  }
 ],
 "metadata": {
  "kernelspec": {
   "display_name": "Python 3 (ipykernel)",
   "language": "python",
   "name": "python3"
  },
  "language_info": {
   "codemirror_mode": {
    "name": "ipython",
    "version": 3
   },
   "file_extension": ".py",
   "mimetype": "text/x-python",
   "name": "python",
   "nbconvert_exporter": "python",
   "pygments_lexer": "ipython3",
   "version": "3.12.5"
  }
 },
 "nbformat": 4,
 "nbformat_minor": 5
}
