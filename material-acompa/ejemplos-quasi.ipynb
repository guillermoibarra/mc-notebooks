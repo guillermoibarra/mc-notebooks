{
 "cells": [
  {
   "cell_type": "markdown",
   "id": "24b9554e-2d70-41a8-8edf-a578f66fa9ee",
   "metadata": {},
   "source": [
    "# Ejemplo 1D en Python\n",
    "\n",
    "Integrar con la secuencia de Sobol:  \n",
    "$$\n",
    "\\int_0^1 x^2 \\, dx = \\frac{1}{3}.\n",
    "$$"
   ]
  },
  {
   "cell_type": "code",
   "execution_count": 1,
   "id": "1acc5bb9-ef70-4592-b2e5-652ccad880cf",
   "metadata": {},
   "outputs": [
    {
     "name": "stdout",
     "output_type": "stream",
     "text": [
      "Aproximación QMC (Sobol): 0.33284521102905273\n",
      "Valor exacto:             0.3333333333333333\n",
      "Error:                    0.00048812230428058045\n"
     ]
    }
   ],
   "source": [
    "import numpy as np\n",
    "from scipy.stats import qmc\n",
    "\n",
    "def f_1D(x):\n",
    "    return x**2\n",
    "\n",
    "n_samples = 1024\n",
    "\n",
    "# Usando secuencia de Sobol en 1D\n",
    "engine_sobol = qmc.Sobol(d=1, scramble=False)\n",
    "points_sobol = engine_sobol.random(n_samples)\n",
    "\n",
    "values_sobol = f_1D(points_sobol[:, 0])\n",
    "estimate_sobol = np.mean(values_sobol)\n",
    "\n",
    "print(\"Aproximación QMC (Sobol):\", estimate_sobol)\n",
    "print(\"Valor exacto:            \", 1.0/3.0)\n",
    "print(\"Error:                   \", abs(estimate_sobol - 1.0/3.0))"
   ]
  },
  {
   "cell_type": "markdown",
   "id": "5351410f-e4f9-4bb6-a63f-514e1f9eba98",
   "metadata": {},
   "source": [
    "# Ejemplo 2D en Python\n",
    "\n",
    "Integrar con la secuencia de Halton \n",
    "$$\n",
    "\\int_{[0,1]^2} (x^2 + y^2)\\, dx\\,dy = \\frac{2}{3}.\n",
    "$$"
   ]
  },
  {
   "cell_type": "code",
   "execution_count": 2,
   "id": "5f0ab633-5bd4-41a2-b824-89f2c8d6dc8f",
   "metadata": {},
   "outputs": [
    {
     "name": "stdout",
     "output_type": "stream",
     "text": [
      "Aproximación QMC (Halton): 0.6640720598754491\n",
      "Valor exacto:              0.6666666666666666\n",
      "Error:                     0.0025946067912174797\n"
     ]
    }
   ],
   "source": [
    "import numpy as np\n",
    "from scipy.stats import qmc\n",
    "\n",
    "def f_2D(x, y):\n",
    "    return x**2 + y**2\n",
    "\n",
    "n_samples = 1024\n",
    "\n",
    "# Usando secuencia de Halton en 2D\n",
    "engine_halton_2d = qmc.Halton(d=2, scramble=False)\n",
    "points_2d = engine_halton_2d.random(n_samples)\n",
    "\n",
    "values_2d = [f_2D(pt[0], pt[1]) for pt in points_2d]\n",
    "estimate_2d = np.mean(values_2d)\n",
    "\n",
    "print(\"Aproximación QMC (Halton):\", estimate_2d)\n",
    "print(\"Valor exacto:             \", 2.0/3.0)\n",
    "print(\"Error:                    \", abs(estimate_2d - 2.0/3.0))"
   ]
  },
  {
   "cell_type": "markdown",
   "id": "53178c03-c316-475d-b55a-522d45fc787c",
   "metadata": {},
   "source": [
    "# Ejemplo ND en Python\n",
    "\n",
    "Para dimensión $d$, consideremos  \n",
    "$$\n",
    "f(\\mathbf{x}) = \\sum_{k=1}^d x_k^2,\n",
    "$$  \n",
    "donde $\\mathbf{x} = (x_1, \\ldots, x_d)$. La integral exacta es $\\frac{d}{3}$."
   ]
  },
  {
   "cell_type": "code",
   "execution_count": 3,
   "id": "884dd250-3bb6-43ed-ac10-57e1c7366a57",
   "metadata": {},
   "outputs": [
    {
     "name": "stdout",
     "output_type": "stream",
     "text": [
      "Aproximación QMC (Sobol) en 4D: 1.3323569297790527\n",
      "Valor exacto:               1.3333333333333333\n",
      "Error:                       0.0009764035542805249\n"
     ]
    }
   ],
   "source": [
    "import numpy as np\n",
    "from scipy.stats import qmc\n",
    "\n",
    "def f_d(x):\n",
    "    # x es un array de dimensión d\n",
    "    return np.sum(x**2, axis=1)\n",
    "\n",
    "d = 4\n",
    "n_samples = 2048\n",
    "\n",
    "engine_sobol_d = qmc.Sobol(d=d, scramble=False)\n",
    "points_d = engine_sobol_d.random(n_samples)\n",
    "\n",
    "values_d = f_d(points_d)\n",
    "estimate_d = np.mean(values_d)\n",
    "\n",
    "print(f\"Aproximación QMC (Sobol) en {d}D:\", estimate_d)\n",
    "print(f\"Valor exacto:               {d/3}\")\n",
    "print(\"Error:                      \", abs(estimate_d - d/3))"
   ]
  },
  {
   "cell_type": "code",
   "execution_count": null,
   "id": "5c101407-2f7c-4ede-bd0b-074c953abd59",
   "metadata": {},
   "outputs": [],
   "source": []
  }
 ],
 "metadata": {
  "kernelspec": {
   "display_name": "Python 3 (ipykernel)",
   "language": "python",
   "name": "python3"
  },
  "language_info": {
   "codemirror_mode": {
    "name": "ipython",
    "version": 3
   },
   "file_extension": ".py",
   "mimetype": "text/x-python",
   "name": "python",
   "nbconvert_exporter": "python",
   "pygments_lexer": "ipython3",
   "version": "3.12.5"
  }
 },
 "nbformat": 4,
 "nbformat_minor": 5
}
