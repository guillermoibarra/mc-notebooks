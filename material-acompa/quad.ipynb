{
 "cells": [
  {
   "cell_type": "markdown",
   "id": "20a153ad-2d35-4ff8-bcdf-e4dad9bb23ae",
   "metadata": {},
   "source": [
    "# Ejemplo de Cuadratura en 1D\n",
    "\n",
    "Para integrales en 1D, bibliotecas como SciPy proporcionan rutinas robustas. Aquí mostramos cómo usar funciones integradas y cómo implementar manualmente la regla del trapecio y la regla de Simpson."
   ]
  },
  {
   "cell_type": "code",
   "execution_count": 2,
   "id": "b5e09aea-7544-4482-b3b1-a62da98f8fe5",
   "metadata": {},
   "outputs": [
    {
     "name": "stdout",
     "output_type": "stream",
     "text": [
      "Integral 1D usando quad: 0.8047764893437559\n",
      "Error estimado: 2.871159687626734e-13\n"
     ]
    }
   ],
   "source": [
    "import numpy as np\n",
    "from scipy.integrate import quad\n",
    "\n",
    "# Definimos una función para integrar: sin(x^2) en el intervalo [0, 2]\n",
    "def f1d(x):\n",
    "    return np.sin(x**2)\n",
    "\n",
    "# Integramos de 0 a 2\n",
    "result, error_est = quad(f1d, 0, 2)\n",
    "\n",
    "print(\"Integral 1D usando quad:\", result)\n",
    "print(\"Error estimado:\", error_est)\n"
   ]
  },
  {
   "cell_type": "code",
   "execution_count": 3,
   "id": "008f3465-02bf-4271-a6f4-eb9b042850b8",
   "metadata": {},
   "outputs": [
    {
     "name": "stdout",
     "output_type": "stream",
     "text": [
      "Regla del Trapecio: 0.804775617817595\n",
      "Regla de Simpson:   0.8047764893490891\n",
      "SciPy quad:         0.8047764893437559\n"
     ]
    }
   ],
   "source": [
    "import numpy as np\n",
    "\n",
    "def f1d(x):\n",
    "    return np.sin(x**2)\n",
    "\n",
    "def regla_trapecio(f, a, b, N=1000):\n",
    "    \"\"\"\n",
    "    Aproxima la integral de f(x) de a a b usando la regla del trapecio.\n",
    "    N: número de subintervalos.\n",
    "    \"\"\"\n",
    "    x = np.linspace(a, b, N+1)\n",
    "    y = f(x)\n",
    "    h = (b - a) / N\n",
    "    # Suma de trapecios\n",
    "    return h * (0.5 * (y[0] + y[-1]) + np.sum(y[1:-1]))\n",
    "\n",
    "def regla_simpson(f, a, b, N=1000):\n",
    "    \"\"\"\n",
    "    Aproxima la integral de f(x) de a a b usando la regla de Simpson.\n",
    "    N: debe ser par (se ajusta si no lo es).\n",
    "    \"\"\"\n",
    "    if N % 2 == 1:\n",
    "        N += 1  # forzamos que N sea par\n",
    "    x = np.linspace(a, b, N+1)\n",
    "    y = f(x)\n",
    "    h = (b - a) / N\n",
    "    # Regla compuesta de Simpson\n",
    "    return (h/3) * (y[0] + y[-1] + 4*np.sum(y[1:-1:2]) + 2*np.sum(y[2:-2:2]))\n",
    "\n",
    "a, b = 0, 2\n",
    "res_trap = regla_trapecio(f1d, a, b, N=1000)\n",
    "res_simp = regla_simpson(f1d, a, b, N=1000)\n",
    "res_quad, _ = quad(f1d, a, b)\n",
    "\n",
    "print(f\"Regla del Trapecio: {res_trap}\")\n",
    "print(f\"Regla de Simpson:   {res_simp}\")\n",
    "print(f\"SciPy quad:         {res_quad}\")\n"
   ]
  },
  {
   "cell_type": "markdown",
   "id": "46af2752-f4fe-439f-9603-8d89c790bb34",
   "metadata": {},
   "source": [
    "# Ejemplo de Cuadratura en 2D\n",
    "Para 2D, SciPy ofrece `dblquad`. También puedes implementar la regla producto (ej., trapecio repetido) de forma manual."
   ]
  },
  {
   "cell_type": "code",
   "execution_count": 1,
   "id": "c7758f2a-6d49-47c8-a2c8-dd8e67b56e4e",
   "metadata": {},
   "outputs": [
    {
     "name": "stdout",
     "output_type": "stream",
     "text": [
      "Integral 3D con nquad: 3.332307087093105 Error: 3.699604053212352e-14\n"
     ]
    }
   ],
   "source": [
    "import numpy as np\n",
    "from scipy.integrate import nquad\n",
    "\n",
    "def f_nd(*args):\n",
    "    # Ejemplo en 3D\n",
    "    x, y, z = args\n",
    "    return np.exp(-(x**2 + y**2 + z**2))\n",
    "\n",
    "# Límites para cada dimensión: x ∈ [-1,1], y ∈ [-1,1], z ∈ [-1,1]\n",
    "bounds = [(-1, 1), (-1, 1), (-1, 1)]\n",
    "\n",
    "res_nquad, err_nquad = nquad(f_nd, bounds)\n",
    "print(\"Integral 3D con nquad:\", res_nquad, \"Error:\", err_nquad)\n"
   ]
  },
  {
   "cell_type": "code",
   "execution_count": 5,
   "id": "9e57f7e0-946c-412b-ac5a-046b41d06373",
   "metadata": {},
   "outputs": [
    {
     "name": "stdout",
     "output_type": "stream",
     "text": [
      "Aproximación con trapecio 2D: 3.111994892846876\n"
     ]
    }
   ],
   "source": [
    "import numpy as np\n",
    "\n",
    "def f2d(x, y):\n",
    "    return np.exp(-(x**2 + y**2))\n",
    "\n",
    "def trapecio_2d(f, x_min, x_max, y_min, y_max, Nx=50, Ny=50):\n",
    "    \"\"\"\n",
    "    Aproxima la integral doble de f(x, y) sobre\n",
    "    [x_min, x_max] x [y_min, y_max] usando trapecio 2D.\n",
    "    \"\"\"\n",
    "    x_vals = np.linspace(x_min, x_max, Nx+1)\n",
    "    y_vals = np.linspace(y_min, y_max, Ny+1)\n",
    "    hx = (x_max - x_min) / Nx\n",
    "    hy = (y_max - y_min) / Ny\n",
    "\n",
    "    # Construimos una malla 2D\n",
    "    X, Y = np.meshgrid(x_vals, y_vals, indexing='ij')  \n",
    "    Z = f(X, Y)\n",
    "\n",
    "    # Suma tipo trapecio para 2D\n",
    "    S = 0\n",
    "    # Esquinas\n",
    "    S += Z[0, 0] + Z[0, -1] + Z[-1, 0] + Z[-1, -1]\n",
    "    # Bordes en x\n",
    "    S += 2 * np.sum(Z[1:-1, 0]) + 2 * np.sum(Z[1:-1, -1])\n",
    "    # Bordes en y\n",
    "    S += 2 * np.sum(Z[0, 1:-1]) + 2 * np.sum(Z[-1, 1:-1])\n",
    "    # Interior\n",
    "    S += 4 * np.sum(Z[1:-1, 1:-1])\n",
    "\n",
    "    return (hx * hy / 4) * S\n",
    "\n",
    "res_trap_2d = trapecio_2d(f2d, -2, 2, -2, 2, Nx=50, Ny=50)\n",
    "print(\"Aproximación con trapecio 2D:\", res_trap_2d)\n"
   ]
  },
  {
   "cell_type": "markdown",
   "id": "17954114-7805-434f-a883-a9ae38f45c9e",
   "metadata": {},
   "source": [
    "# Extensión a $𝑛$-Dimensiones: `nquad`\n",
    "n dimensiones, aunque internamente realiza integraciones 1D anidadas, lo que resulta costoso para dimensiones grandes."
   ]
  },
  {
   "cell_type": "code",
   "execution_count": 6,
   "id": "e5bd6d9e-d701-49d3-a6db-794056ba3ba0",
   "metadata": {},
   "outputs": [
    {
     "name": "stdout",
     "output_type": "stream",
     "text": [
      "Integral 3D con nquad: 3.332307087093105 Error: 3.699604053212352e-14\n"
     ]
    }
   ],
   "source": [
    "import numpy as np\n",
    "from scipy.integrate import nquad\n",
    "\n",
    "def f_nd(*args):\n",
    "    # Ejemplo en 3D\n",
    "    x, y, z = args\n",
    "    return np.exp(-(x**2 + y**2 + z**2))\n",
    "\n",
    "# Límites para cada dimensión: x ∈ [-1,1], y ∈ [-1,1], z ∈ [-1,1]\n",
    "bounds = [(-1, 1), (-1, 1), (-1, 1)]\n",
    "\n",
    "res_nquad, err_nquad = nquad(f_nd, bounds)\n",
    "print(\"Integral 3D con nquad:\", res_nquad, \"Error:\", err_nquad)"
   ]
  },
  {
   "cell_type": "code",
   "execution_count": null,
   "id": "ae7dedf7-4831-4f7d-94c8-4c4a9d1b3f6b",
   "metadata": {},
   "outputs": [],
   "source": []
  }
 ],
 "metadata": {
  "kernelspec": {
   "display_name": "Python 3 (ipykernel)",
   "language": "python",
   "name": "python3"
  },
  "language_info": {
   "codemirror_mode": {
    "name": "ipython",
    "version": 3
   },
   "file_extension": ".py",
   "mimetype": "text/x-python",
   "name": "python",
   "nbconvert_exporter": "python",
   "pygments_lexer": "ipython3",
   "version": "3.12.5"
  }
 },
 "nbformat": 4,
 "nbformat_minor": 5
}
