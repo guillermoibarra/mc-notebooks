{
 "cells": [
  {
   "cell_type": "markdown",
   "id": "d6c33c08-8490-4da2-be9f-a0e34755c1b3",
   "metadata": {},
   "source": [
    "# Evaluación de Distribuciones de Probabilidad\n",
    "\n",
    "## Nombres\n",
    "\n",
    "## Preguntas\n",
    "\n",
    "Hacer solo 2 preguntas entre las preguntas 1, 2 y 3. Las preguntas 4 y 5 son obligatorias.\n",
    "\n",
    "### Pregunta 1: Comparación entre Distribuciones Binomial y de Poisson\n",
    "\n",
    "**Pregunta:**\n",
    "\n",
    "Compara la distribución Binomial con la distribución de Poisson. ¿En qué condiciones la distribución Binomial puede aproximarse a la distribución de Poisson? Proporciona un gráfico en Python que ilustre esta aproximación.\n",
    "\n",
    "---\n",
    "\n",
    "### Pregunta 2: Relación entre Distribuciones Normal y Binomial\n",
    "\n",
    "**Pregunta:**\n",
    "\n",
    "¿Cómo se relaciona la distribución Normal con la distribución Binomial? ¿Cuándo es apropiado utilizar la aproximación Normal para una distribución Binomial?\n",
    "\n",
    "---\n",
    "\n",
    "### Pregunta 3: Aproximación de la Distribución Geométrica a la Exponencial\n",
    "\n",
    "**Pregunta:**\n",
    "\n",
    "Describe cómo la distribución Geométrica aproxima a la distribución Exponencial. ¿Bajo qué criterios comparten similitudes estas dos distribuciones? Proporciona una visualización en Python sobre esta observación.\n",
    "\n",
    "---\n",
    "\n",
    "### Pregunta 4: Distribuciones sin Momentos Definidos\n",
    "\n",
    "**Pregunta:**\n",
    "\n",
    "¿Cuáles distribuciones, entre las discutidas, no tienen momentos definidos (media, varianza)? Explica por qué.\n",
    "\n",
    "---\n",
    "\n",
    "### Pregunta 5: Comparación de PDFs de Distribuciones Normal, Cauchy y Log-Normal\n",
    "\n",
    "**Pregunta:**\n",
    "\n",
    "Usando Python, traza las funciones de densidad de probabilidad (PDF) de las distribuciones Normal, Cauchy y Log-Normal con la misma median. Discute las diferencias observadas en sus formas.\n",
    "\n",
    "---\n"
   ]
  },
  {
   "cell_type": "code",
   "execution_count": null,
   "id": "0407ffa8-6926-4d3c-92ff-adffdc1694bd",
   "metadata": {},
   "outputs": [],
   "source": []
  }
 ],
 "metadata": {
  "kernelspec": {
   "display_name": "Python 3 (ipykernel)",
   "language": "python",
   "name": "python3"
  },
  "language_info": {
   "codemirror_mode": {
    "name": "ipython",
    "version": 3
   },
   "file_extension": ".py",
   "mimetype": "text/x-python",
   "name": "python",
   "nbconvert_exporter": "python",
   "pygments_lexer": "ipython3",
   "version": "3.12.5"
  }
 },
 "nbformat": 4,
 "nbformat_minor": 5
}
