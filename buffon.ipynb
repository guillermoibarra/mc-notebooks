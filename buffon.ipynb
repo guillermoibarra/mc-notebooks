{
 "cells": [
  {
   "cell_type": "markdown",
   "id": "0c1bf8b7-bfdd-4c0d-86b5-54a7abc9ca90",
   "metadata": {},
   "source": [
    "# Estimación de π Mediante el Método de la Aguja de Buffon\n",
    "\n",
    "## Introducción Teórica\n",
    "\n",
    "El método de Buffon es un fascinante experimento probabilístico que permite estimar el valor de π mediante una simulación geométrica simple. Desarrollado por el matemático francés Georges-Louis Leclerc, Conde de Buffon en el siglo XVIII, este método demuestra cómo la probabilidad puede utilizarse para calcular constantes matemáticas.\n",
    "\n",
    "### Principio Fundamental\n",
    "\n",
    "Imagina un plano con líneas paralelas equidistantes y agujas que se lanzan al azar:\n",
    "- La longitud de las agujas es igual al ancho entre líneas\n",
    "- El ángulo de cada aguja es aleatorio\n",
    "- Se cuenta cuántas agujas cruzan las líneas\n",
    "\n",
    "La probabilidad de cruce está directamente relacionada con π, permitiendo su estimación.\n",
    "\n",
    "## Implementación en Python\n",
    "\n",
    "El código que veremos simula este experimento probabilístico, calculando π mediante lanzamientos aleatorios de agujas.\n",
    "\n",
    "### Componentes Clave del Algoritmo:\n",
    "1. Generación aleatoria de posición y ángulo de agujas\n",
    "2. Conteo de cruces de líneas\n",
    "3. Cálculo estadístico de π"
   ]
  },
  {
   "cell_type": "code",
   "execution_count": 6,
   "id": "801e26ec-14f4-46e3-926e-1c70aeeb0399",
   "metadata": {},
   "outputs": [],
   "source": [
    "import random\n",
    "import math\n",
    "\n",
    "def estimar_pi_aguja_buffon(num_agujas=10000):\n",
    "    \"\"\"\n",
    "    Estimar π usando el método de la aguja de Buffon.\n",
    "    \n",
    "    Args:\n",
    "    num_agujas (int): Número de agujas a simular\n",
    "    \n",
    "    Returns:\n",
    "    float: Estimación de π\n",
    "    \"\"\"\n",
    "    cruces = 0\n",
    "    longitud_aguja = 1.0\n",
    "    separacion_lineas = 2.0  # Distancia entre líneas paralelas\n",
    "    \n",
    "    for _ in range(num_agujas):\n",
    "        # Posición y ángulo aleatorio de la aguja\n",
    "        posicion_y = random.uniform(0, separacion_lineas/2)  # Distancia a la línea más cercana\n",
    "        angulo_theta = random.uniform(0, math.pi/2)   # Ángulo de la aguja\n",
    "        \n",
    "        # Verificar si la aguja cruza una línea\n",
    "        if posicion_y <= (longitud_aguja/2) * math.sin(angulo_theta):\n",
    "            cruces += 1\n",
    "    \n",
    "    # Fórmula de estimación de π\n",
    "    estimacion_pi = (2 * longitud_aguja * num_agujas) / (separacion_lineas * cruces)\n",
    "    \n",
    "    return estimacion_pi"
   ]
  },
  {
   "cell_type": "markdown",
   "id": "a3d0ed4b-fde5-4291-84b4-be9c9f6c9941",
   "metadata": {},
   "source": [
    "### Interpretación Matemática\n",
    "\n",
    "La fórmula `π ≈ (2 * longitud_aguja * total_agujas) / (separacion_lineas * cruces)` surge de la probabilidad geométrica.\n",
    "\n",
    "## Limitaciones y Precisión\n",
    "\n",
    "- Mayor número de agujas → Estimación más precisa\n",
    "- Método probabilístico → Resultados varían entre ejecuciones\n",
    "- No es un método eficiente para cálculos de alta precisión\n",
    "\n",
    "## Ejecución del Experimento"
   ]
  },
  {
   "cell_type": "code",
   "execution_count": 7,
   "id": "2943e489-4e49-4e03-a5cf-10a3200786a5",
   "metadata": {},
   "outputs": [
    {
     "name": "stdout",
     "output_type": "stream",
     "text": [
      "Agujas: 1000, π estimado: 3.134796\n",
      "Diferencia con math.pi: 0.006796\n",
      "Agujas: 10000, π estimado: 3.155570\n",
      "Diferencia con math.pi: 0.013977\n",
      "Agujas: 100000, π estimado: 3.142678\n",
      "Diferencia con math.pi: 0.001085\n",
      "Agujas: 1000000, π estimado: 3.132361\n",
      "Diferencia con math.pi: 0.009232\n"
     ]
    }
   ],
   "source": [
    "conteos_agujas = [1000, 10000, 100000, 1000000]\n",
    "\n",
    "for cantidad in conteos_agujas:\n",
    "    pi_estimado = estimar_pi_aguja_buffon(cantidad)\n",
    "    print(f\"Agujas: {cantidad}, π estimado: {pi_estimado:.6f}\")\n",
    "    print(f\"Diferencia con math.pi: {abs(pi_estimado - math.pi):.6f}\")"
   ]
  },
  {
   "cell_type": "markdown",
   "id": "183d013f-f136-456b-a055-10f234906f5b",
   "metadata": {},
   "source": [
    "### Conclusión\n",
    "\n",
    "El método de Buffon illustra brillantemente cómo conceptos probabilísticos pueden resolver problemas matemáticos, conectando geometría, azar y constantes fundamentales."
   ]
  },
  {
   "cell_type": "code",
   "execution_count": null,
   "id": "24ce40c2-6e8f-4e9a-9a45-03a1885afbe9",
   "metadata": {},
   "outputs": [],
   "source": []
  }
 ],
 "metadata": {
  "kernelspec": {
   "display_name": "Python 3 (ipykernel)",
   "language": "python",
   "name": "python3"
  },
  "language_info": {
   "codemirror_mode": {
    "name": "ipython",
    "version": 3
   },
   "file_extension": ".py",
   "mimetype": "text/x-python",
   "name": "python",
   "nbconvert_exporter": "python",
   "pygments_lexer": "ipython3",
   "version": "3.12.5"
  }
 },
 "nbformat": 4,
 "nbformat_minor": 5
}
